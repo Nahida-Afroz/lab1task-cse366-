{
  "nbformat": 4,
  "nbformat_minor": 0,
  "metadata": {
    "colab": {
      "provenance": []
    },
    "kernelspec": {
      "name": "python3",
      "display_name": "Python 3"
    },
    "language_info": {
      "name": "python"
    }
  },
  "cells": [
    {
      "cell_type": "markdown",
      "source": [
        "here i have imported the random library to choose randomly students."
      ],
      "metadata": {
        "id": "TestqHxyQ3jb"
      }
    },
    {
      "cell_type": "code",
      "source": [
        "import random\n",
        "import os\n",
        "import time"
      ],
      "metadata": {
        "id": "8_ITMWe9L8yq"
      },
      "execution_count": 16,
      "outputs": []
    },
    {
      "cell_type": "markdown",
      "source": [
        "mounted google drive"
      ],
      "metadata": {
        "id": "FYH8cnGARCgz"
      }
    },
    {
      "cell_type": "code",
      "source": [
        "from google.colab import drive\n",
        "drive.mount('/content/drive')"
      ],
      "metadata": {
        "colab": {
          "base_uri": "https://localhost:8080/"
        },
        "id": "bVCxg1tLKU46",
        "outputId": "fad4e2d1-a999-4a57-e517-d2f890b8b618"
      },
      "execution_count": 17,
      "outputs": [
        {
          "output_type": "stream",
          "name": "stdout",
          "text": [
            "Drive already mounted at /content/drive; to attempt to forcibly remount, call drive.mount(\"/content/drive\", force_remount=True).\n"
          ]
        }
      ]
    },
    {
      "cell_type": "code",
      "source": [
        "f =open(\"/content/drive/MyDrive/lab1task/lab1.txt\",  \"r\")\n",
        "print(f.read())\n",
        "\n"
      ],
      "metadata": {
        "colab": {
          "base_uri": "https://localhost:8080/"
        },
        "id": "H3IE87trKmby",
        "outputId": "dd1225f8-a94c-4100-ecd0-1d0191ea6119"
      },
      "execution_count": 18,
      "outputs": [
        {
          "output_type": "stream",
          "name": "stdout",
          "text": [
            "2021-1-60-049\n",
            "2021-1-60-050\n",
            "2022-3-89-090\n",
            "2021-1-60-049\n",
            "2021-1-60-059\n",
            "2024-3-89-089\n",
            "2021-1-60-049\n",
            "2023-1-60-050\n",
            "2022-3-89-090\n",
            "2020-1-60-049\n",
            "2021-1-60-050\n",
            "2022-3-09-091\n",
            "\n"
          ]
        }
      ]
    },
    {
      "cell_type": "markdown",
      "source": [
        "at first this function will take the student from text file and select for viva.strip()func will erase the extra space,comma."
      ],
      "metadata": {
        "id": "V-rsGSYfRJo8"
      }
    },
    {
      "cell_type": "code",
      "source": [
        "#here at first read the ids\n",
        "\n",
        "def read_student_ids(file_name):\n",
        "    if not os.path.exists(file_name):\n",
        "        raise FileNotFoundError(f\"The file '{file_name}' was not found.\")\n",
        "\n",
        "    with open(file_name, 'r') as file:\n",
        "\n",
        "        student_ids = [line.strip() for line in file.readlines()]\n",
        "\n",
        "\n",
        "    if not student_ids:\n",
        "        raise ValueError(f\"The file '{file_name}' is empty.\")\n",
        "\n",
        "    return student_ids\n",
        "# Step 2: Maintain a list of students who haven’t been selected yet\n",
        "def select_students_for_viva(student_ids):\n",
        "    remaining_students = student_ids.copy()\n",
        "    selected_students = []\n",
        "\n",
        "    viva_number = 1\n",
        "\n",
        "\n",
        "    while remaining_students:\n",
        "        selected_student = random.choice(remaining_students)\n",
        "        remaining_students.remove(selected_student)\n",
        "        selected_students.append(selected_student)\n",
        "        print(f\"Viva #{viva_number}: Selected student: {selected_student}\")\n",
        "\n",
        "        viva_number += 1\n",
        "\n",
        "\n",
        "    print(\"\\nAll students have been selected for the viva. Resetting list...\")\n",
        "    return selected_students, student_ids\n",
        "\n",
        "def track_viva_time(student_ids):\n",
        "    start_time = time.time()  # Track start time\n",
        "    selected_students, reset_list = select_students_for_viva(student_ids)\n",
        "    end_time = time.time()  # Track end time\n",
        "\n",
        "    elapsed_time = end_time - start_time\n",
        "    print(f\"\\nTime taken for this round: {elapsed_time:.2f} seconds.\")\n",
        "\n",
        "    return selected_students, reset_list\n",
        "#if file doesnt consist any id's or file is not found it will use the try except block in python\n",
        "def main():\n",
        "    file_name = \"/content/drive/MyDrive/lab1task/lab1.txt\"\n",
        "\n",
        "    try:\n",
        "        student_ids = read_student_ids(file_name)\n",
        "    except (FileNotFoundError, ValueError) as e:\n",
        "        print(f\"Error: {e}\")\n",
        "        return\n",
        "\n",
        "   # Perform the selection process also viva time\n",
        "    selected_students, reset_list = select_students_for_viva(student_ids)\n",
        "    selected_students, reset_list = track_viva_time(student_ids)\n",
        "\n",
        "\n",
        "    print(\"\\nResetting the list of students.\")\n",
        "    remaining_students = reset_list.copy()\n",
        "\n",
        "\n",
        "    print(f\"Reset list of students: {remaining_students}\")\n",
        "\n",
        "if __name__ == \"__main__\":\n",
        "    main()\n"
      ],
      "metadata": {
        "colab": {
          "base_uri": "https://localhost:8080/"
        },
        "id": "22_5GJRmPazE",
        "outputId": "d0700d0f-c291-47ba-fe65-f9ebfef8537d"
      },
      "execution_count": 25,
      "outputs": [
        {
          "output_type": "stream",
          "name": "stdout",
          "text": [
            "Viva #1: Selected student: 2022-3-89-090\n",
            "Viva #2: Selected student: 2024-3-89-089\n",
            "Viva #3: Selected student: 2020-1-60-049\n",
            "Viva #4: Selected student: 2021-1-60-050\n",
            "Viva #5: Selected student: 2022-3-89-090\n",
            "Viva #6: Selected student: 2021-1-60-049\n",
            "Viva #7: Selected student: 2021-1-60-049\n",
            "Viva #8: Selected student: 2023-1-60-050\n",
            "Viva #9: Selected student: 2021-1-60-049\n",
            "Viva #10: Selected student: 2022-3-09-091\n",
            "Viva #11: Selected student: 2021-1-60-059\n",
            "Viva #12: Selected student: 2021-1-60-050\n",
            "\n",
            "All students have been selected for the viva. Resetting list...\n",
            "Viva #1: Selected student: 2021-1-60-049\n",
            "Viva #2: Selected student: 2022-3-09-091\n",
            "Viva #3: Selected student: 2022-3-89-090\n",
            "Viva #4: Selected student: 2021-1-60-059\n",
            "Viva #5: Selected student: 2024-3-89-089\n",
            "Viva #6: Selected student: 2021-1-60-049\n",
            "Viva #7: Selected student: 2021-1-60-049\n",
            "Viva #8: Selected student: 2020-1-60-049\n",
            "Viva #9: Selected student: 2022-3-89-090\n",
            "Viva #10: Selected student: 2021-1-60-050\n",
            "Viva #11: Selected student: 2021-1-60-050\n",
            "Viva #12: Selected student: 2023-1-60-050\n",
            "\n",
            "All students have been selected for the viva. Resetting list...\n",
            "\n",
            "Time taken for this round: 0.01 seconds.\n",
            "\n",
            "Resetting the list of students.\n",
            "Reset list of students: ['2021-1-60-049', '2021-1-60-050', '2022-3-89-090', '2021-1-60-049', '2021-1-60-059', '2024-3-89-089', '2021-1-60-049', '2023-1-60-050', '2022-3-89-090', '2020-1-60-049', '2021-1-60-050', '2022-3-09-091']\n"
          ]
        }
      ]
    }
  ]
}